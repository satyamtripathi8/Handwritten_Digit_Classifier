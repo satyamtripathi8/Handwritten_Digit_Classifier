{
 "cells": [
  {
   "cell_type": "markdown",
   "metadata": {},
   "source": [
    "# Loading Model and Tesing it."
   ]
  },
  {
   "cell_type": "code",
   "execution_count": null,
   "metadata": {},
   "outputs": [],
   "source": [
    "import pandas as pd\n",
    "import numpy as np\n",
    "import joblib\n",
    "from PIL import Image# used for image preprocessing"
   ]
  },
  {
   "cell_type": "code",
   "execution_count": 14,
   "metadata": {},
   "outputs": [],
   "source": [
    "model = joblib.load('trained_model_2.pkl')#loading Model"
   ]
  },
  {
   "cell_type": "code",
   "execution_count": 15,
   "metadata": {},
   "outputs": [],
   "source": [
    "test_data = pd.read_csv('mnist_test.csv') \n",
    "X = test_data.drop('label', axis=1).values\n",
    "X_new = X.reshape(-1, 28, 28, 1).astype('float32') / 255\n"
   ]
  },
  {
   "cell_type": "code",
   "execution_count": 16,
   "metadata": {},
   "outputs": [
    {
     "name": "stdout",
     "output_type": "stream",
     "text": [
      "313/313 [==============================] - 2s 7ms/step\n",
      "Predicted Labels: [7 2 1 ... 4 5 6]\n"
     ]
    }
   ],
   "source": [
    "predictions = model.predict(X_new)\n",
    "predicted_labels = np.argmax(predictions, axis=1)\n",
    "print('Predicted Labels:', predicted_labels)"
   ]
  },
  {
   "cell_type": "markdown",
   "metadata": {},
   "source": [
    "### Now, taking image as input for digit classifiction."
   ]
  },
  {
   "cell_type": "code",
   "execution_count": 17,
   "metadata": {},
   "outputs": [],
   "source": [
    "def preprocess_input(image_path):\n",
    "    original_image = Image.open(image_path).convert(\"L\")  # Converting to grayscale\n",
    "    resized_image = original_image.resize((28, 28))# Resizing the image into (28, 28)\n",
    "    processed_image = np.array(resized_image) / 255.0\n",
    "    processed_image = processed_image.reshape(28, 28, 1)\n",
    "    return processed_image"
   ]
  },
  {
   "cell_type": "code",
   "execution_count": 21,
   "metadata": {},
   "outputs": [
    {
     "name": "stdout",
     "output_type": "stream",
     "text": [
      "1/1 [==============================] - 0s 62ms/step\n",
      "Predicted Label: 2\n"
     ]
    }
   ],
   "source": [
    "def make_prediction():\n",
    "    image_path = input(\"Enter the path to the image file you want to predict: \")\n",
    "    processed_image = preprocess_input(image_path)\n",
    "    predictions = model.predict(np.expand_dims(processed_image, axis=0))\n",
    "    predicted_label = np.argmax(predictions)#making predicted label\n",
    "    print(f\"Predicted Label: {predicted_label}\")\n",
    "\n",
    "make_prediction()"
   ]
  },
  {
   "cell_type": "code",
   "execution_count": null,
   "metadata": {},
   "outputs": [],
   "source": []
  }
 ],
 "metadata": {
  "kernelspec": {
   "display_name": "Python 3",
   "language": "python",
   "name": "python3"
  },
  "language_info": {
   "codemirror_mode": {
    "name": "ipython",
    "version": 3
   },
   "file_extension": ".py",
   "mimetype": "text/x-python",
   "name": "python",
   "nbconvert_exporter": "python",
   "pygments_lexer": "ipython3",
   "version": "3.11.4"
  }
 },
 "nbformat": 4,
 "nbformat_minor": 2
}
